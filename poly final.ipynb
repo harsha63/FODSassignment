{
 "cells": [
  {
   "cell_type": "code",
   "execution_count": 3,
   "metadata": {
    "scrolled": true
   },
   "outputs": [],
   "source": [
    "import pandas as pd\n",
    "import numpy as np\n",
    "from sklearn.model_selection import train_test_split\n",
    "import math\n",
    "import matplotlib.pyplot as plt"
   ]
  },
  {
   "cell_type": "code",
   "execution_count": 4,
   "metadata": {},
   "outputs": [],
   "source": [
    "\n",
    "data=pd.read_csv('3D_spatial_network.txt')"
   ]
  },
  {
   "cell_type": "code",
   "execution_count": 5,
   "metadata": {},
   "outputs": [
    {
     "data": {
      "text/html": [
       "<div>\n",
       "<style scoped>\n",
       "    .dataframe tbody tr th:only-of-type {\n",
       "        vertical-align: middle;\n",
       "    }\n",
       "\n",
       "    .dataframe tbody tr th {\n",
       "        vertical-align: top;\n",
       "    }\n",
       "\n",
       "    .dataframe thead th {\n",
       "        text-align: right;\n",
       "    }\n",
       "</style>\n",
       "<table border=\"1\" class=\"dataframe\">\n",
       "  <thead>\n",
       "    <tr style=\"text-align: right;\">\n",
       "      <th></th>\n",
       "      <th>144552912</th>\n",
       "      <th>9.3498486</th>\n",
       "      <th>56.7408757</th>\n",
       "      <th>17.0527715677876</th>\n",
       "    </tr>\n",
       "  </thead>\n",
       "  <tbody>\n",
       "    <tr>\n",
       "      <td>0</td>\n",
       "      <td>144552912</td>\n",
       "      <td>9.350188</td>\n",
       "      <td>56.740679</td>\n",
       "      <td>17.614840</td>\n",
       "    </tr>\n",
       "    <tr>\n",
       "      <td>1</td>\n",
       "      <td>144552912</td>\n",
       "      <td>9.350549</td>\n",
       "      <td>56.740544</td>\n",
       "      <td>18.083536</td>\n",
       "    </tr>\n",
       "    <tr>\n",
       "      <td>2</td>\n",
       "      <td>144552912</td>\n",
       "      <td>9.350806</td>\n",
       "      <td>56.740484</td>\n",
       "      <td>18.279465</td>\n",
       "    </tr>\n",
       "    <tr>\n",
       "      <td>3</td>\n",
       "      <td>144552912</td>\n",
       "      <td>9.351053</td>\n",
       "      <td>56.740486</td>\n",
       "      <td>18.422974</td>\n",
       "    </tr>\n",
       "    <tr>\n",
       "      <td>4</td>\n",
       "      <td>144552912</td>\n",
       "      <td>9.351475</td>\n",
       "      <td>56.740502</td>\n",
       "      <td>19.124889</td>\n",
       "    </tr>\n",
       "  </tbody>\n",
       "</table>\n",
       "</div>"
      ],
      "text/plain": [
       "   144552912  9.3498486  56.7408757  17.0527715677876\n",
       "0  144552912   9.350188   56.740679         17.614840\n",
       "1  144552912   9.350549   56.740544         18.083536\n",
       "2  144552912   9.350806   56.740484         18.279465\n",
       "3  144552912   9.351053   56.740486         18.422974\n",
       "4  144552912   9.351475   56.740502         19.124889"
      ]
     },
     "execution_count": 5,
     "metadata": {},
     "output_type": "execute_result"
    }
   ],
   "source": [
    "data.head()"
   ]
  },
  {
   "cell_type": "code",
   "execution_count": 6,
   "metadata": {},
   "outputs": [],
   "source": [
    "data.columns=['Drop','Latitude','Longitude','Altitude']"
   ]
  },
  {
   "cell_type": "code",
   "execution_count": 7,
   "metadata": {},
   "outputs": [],
   "source": [
    "data.drop('Drop', axis=1, inplace=True)"
   ]
  },
  {
   "cell_type": "code",
   "execution_count": 8,
   "metadata": {},
   "outputs": [],
   "source": [
    "data.dropna(axis=0, how='any', thresh=None, subset=None, inplace=True)\n"
   ]
  },
  {
   "cell_type": "code",
   "execution_count": 9,
   "metadata": {},
   "outputs": [
    {
     "data": {
      "text/html": [
       "<div>\n",
       "<style scoped>\n",
       "    .dataframe tbody tr th:only-of-type {\n",
       "        vertical-align: middle;\n",
       "    }\n",
       "\n",
       "    .dataframe tbody tr th {\n",
       "        vertical-align: top;\n",
       "    }\n",
       "\n",
       "    .dataframe thead th {\n",
       "        text-align: right;\n",
       "    }\n",
       "</style>\n",
       "<table border=\"1\" class=\"dataframe\">\n",
       "  <thead>\n",
       "    <tr style=\"text-align: right;\">\n",
       "      <th></th>\n",
       "      <th>Latitude</th>\n",
       "      <th>Longitude</th>\n",
       "      <th>Altitude</th>\n",
       "    </tr>\n",
       "  </thead>\n",
       "  <tbody>\n",
       "    <tr>\n",
       "      <td>0</td>\n",
       "      <td>-0.609439</td>\n",
       "      <td>-1.167475</td>\n",
       "      <td>-0.258290</td>\n",
       "    </tr>\n",
       "    <tr>\n",
       "      <td>1</td>\n",
       "      <td>-0.608854</td>\n",
       "      <td>-1.167938</td>\n",
       "      <td>-0.233452</td>\n",
       "    </tr>\n",
       "    <tr>\n",
       "      <td>2</td>\n",
       "      <td>-0.608436</td>\n",
       "      <td>-1.168145</td>\n",
       "      <td>-0.223068</td>\n",
       "    </tr>\n",
       "    <tr>\n",
       "      <td>3</td>\n",
       "      <td>-0.608035</td>\n",
       "      <td>-1.168139</td>\n",
       "      <td>-0.215463</td>\n",
       "    </tr>\n",
       "    <tr>\n",
       "      <td>4</td>\n",
       "      <td>-0.607351</td>\n",
       "      <td>-1.168084</td>\n",
       "      <td>-0.178266</td>\n",
       "    </tr>\n",
       "  </tbody>\n",
       "</table>\n",
       "</div>"
      ],
      "text/plain": [
       "   Latitude  Longitude  Altitude\n",
       "0 -0.609439  -1.167475 -0.258290\n",
       "1 -0.608854  -1.167938 -0.233452\n",
       "2 -0.608436  -1.168145 -0.223068\n",
       "3 -0.608035  -1.168139 -0.215463\n",
       "4 -0.607351  -1.168084 -0.178266"
      ]
     },
     "execution_count": 9,
     "metadata": {},
     "output_type": "execute_result"
    }
   ],
   "source": [
    "data['Latitude']=(data['Latitude']-data['Latitude'].mean())/data['Latitude'].std()\n",
    "data['Longitude']=(data['Longitude']-data['Longitude'].mean())/data['Longitude'].std()\n",
    "data['Altitude']=(data['Altitude']-data['Altitude'].mean())/data['Altitude'].std()\n",
    "data.head()"
   ]
  },
  {
   "cell_type": "code",
   "execution_count": null,
   "metadata": {},
   "outputs": [],
   "source": []
  },
  {
   "cell_type": "code",
   "execution_count": 10,
   "metadata": {},
   "outputs": [],
   "source": [
    "X1=[]\n",
    "X1= data['Latitude'].iloc[:]\n",
    "X2=[]\n",
    "X2= data['Longitude'].iloc[:]\n",
    "Y=[]\n",
    "Y= data['Altitude'].iloc[:]\n"
   ]
  },
  {
   "cell_type": "code",
   "execution_count": null,
   "metadata": {},
   "outputs": [],
   "source": []
  },
  {
   "cell_type": "markdown",
   "metadata": {},
   "source": []
  },
  {
   "cell_type": "code",
   "execution_count": 11,
   "metadata": {},
   "outputs": [],
   "source": [
    "X1_train, X1_test, X2_train, X2_test, Y_train, Y_test= train_test_split(X1, X2, Y, test_size= 0.3)"
   ]
  },
  {
   "cell_type": "code",
   "execution_count": 12,
   "metadata": {},
   "outputs": [
    {
     "data": {
      "text/plain": [
       "182809"
      ]
     },
     "execution_count": 12,
     "metadata": {},
     "output_type": "execute_result"
    }
   ],
   "source": [
    "X1_train.size"
   ]
  },
  {
   "cell_type": "code",
   "execution_count": 13,
   "metadata": {},
   "outputs": [
    {
     "data": {
      "text/plain": [
       "78347"
      ]
     },
     "execution_count": 13,
     "metadata": {},
     "output_type": "execute_result"
    }
   ],
   "source": [
    "X1_test.size"
   ]
  },
  {
   "cell_type": "code",
   "execution_count": 79,
   "metadata": {},
   "outputs": [],
   "source": [
    "# degree 1\n",
    "def lin_1(x1, x2, y, w0_curr=0, w1_curr=0, w2_curr=0, learning=0.01,count=0):\n",
    "    N=float(len(y))\n",
    "    avg= sum(y)/len(Y)\n",
    "    a1=[]\n",
    "    b1=[]\n",
    "    W1=[]\n",
    "    W2=[]\n",
    "    for i in range(1000):\n",
    "        y_curr= w0_curr+w1_curr*x1+w2_curr*x2\n",
    "        sse=sum([data**2\n",
    "                 for data in (y-y_curr)])/N\n",
    "        ssr=sum([data**2 \n",
    "               for data in (y_curr-avg)])/N\n",
    "       \n",
    "        D_w0=(-2/N)*sum(y-y_curr)\n",
    "        D_w1=(-2/N)*sum(x1*(y-y_curr))\n",
    "        D_w2=(-2/N)*sum(x2*(y-y_curr))\n",
    "        w0_curr=w0_curr-(learning*D_w0)\n",
    "        w1_curr=w1_curr-(learning*D_w1)\n",
    "        w2_curr=w2_curr-(learning*D_w2)\n",
    "        a1.append(sse)\n",
    "        b1.append(count)\n",
    "        W1.append(w1_curr)\n",
    "        W2.append(w2_curr)\n",
    "        count=count+1\n",
    "    \n",
    "    return (sse/(sse+ssr)),math.sqrt(sse)"
   ]
  },
  {
   "cell_type": "code",
   "execution_count": 75,
   "metadata": {},
   "outputs": [],
   "source": [
    "rr2,rmse1=lin_1(X1_train,X2_train,Y_train)"
   ]
  },
  {
   "cell_type": "code",
   "execution_count": 76,
   "metadata": {},
   "outputs": [
    {
     "data": {
      "text/plain": [
       "0.9719991354828943"
      ]
     },
     "execution_count": 76,
     "metadata": {},
     "output_type": "execute_result"
    }
   ],
   "source": [
    "rr2"
   ]
  },
  {
   "cell_type": "code",
   "execution_count": 77,
   "metadata": {},
   "outputs": [
    {
     "data": {
      "text/plain": [
       "0.9867580843311743"
      ]
     },
     "execution_count": 77,
     "metadata": {},
     "output_type": "execute_result"
    }
   ],
   "source": [
    "rmse1"
   ]
  },
  {
   "cell_type": "code",
   "execution_count": 65,
   "metadata": {},
   "outputs": [
    {
     "data": {
      "text/plain": [
       "0.027242107237956108"
      ]
     },
     "execution_count": 65,
     "metadata": {},
     "output_type": "execute_result"
    }
   ],
   "source": [
    "RR2,"
   ]
  },
  {
   "cell_type": "code",
   "execution_count": 70,
   "metadata": {},
   "outputs": [
    {
     "data": {
      "text/plain": [
       "0.17106542352121187"
      ]
     },
     "execution_count": 70,
     "metadata": {},
     "output_type": "execute_result"
    }
   ],
   "source": [
    "wt1[999]"
   ]
  },
  {
   "cell_type": "code",
   "execution_count": 71,
   "metadata": {},
   "outputs": [
    {
     "data": {
      "text/plain": [
       "-0.18545447499149678"
      ]
     },
     "execution_count": 71,
     "metadata": {},
     "output_type": "execute_result"
    }
   ],
   "source": [
    "wt2[999]"
   ]
  },
  {
   "cell_type": "code",
   "execution_count": 31,
   "metadata": {},
   "outputs": [
    {
     "data": {
      "text/plain": [
       "Text(0.5, 1.0, 'Cost Function vs Iterations in degree 1 (Train Data)')"
      ]
     },
     "execution_count": 31,
     "metadata": {},
     "output_type": "execute_result"
    },
    {
     "data": {
      "image/png": "[encoded data removed]",
      "text/plain": [
       "<Figure size 432x288 with 1 Axes>"
      ]
     },
     "metadata": {
      "needs_background": "light"
     },
     "output_type": "display_data"
    }
   ],
   "source": [
    "plt.plot(iter1, cost1)\n",
    "plt.xlabel(\"Iterations\")\n",
    "plt.ylabel(\"Cost Function\")\n",
    "plt.title(\"Cost Function vs Iterations in degree 1 (Train Data)\")"
   ]
  },
  {
   "cell_type": "code",
   "execution_count": 73,
   "metadata": {},
   "outputs": [
    {
     "data": {
      "text/plain": [
       "Text(0.5, 0, 'cost funct')"
      ]
     },
     "execution_count": 73,
     "metadata": {},
     "output_type": "execute_result"
    },
    {
     "data": {
      "image/png": "[encoded data removed]",
      "text/plain": [
       "<Figure size 432x288 with 1 Axes>"
      ]
     },
     "metadata": {
      "needs_background": "light"
     },
     "output_type": "display_data"
    }
   ],
   "source": [
    "from mpl_toolkits.mplot3d import Axes3D\n",
    "fig=plt.figure()\n",
    "ax=fig.add_subplot(111, projection= '3d')\n",
    "ax.scatter(wt1,wt2, cost1, c='r',marker='o')\n",
    "ax.set_xlabel(\"w1\")\n",
    "ax.set_ylabel(\"w2\")\n",
    "ax.set_zlabel(\"cost funct\")\n"
   ]
  },
  {
   "cell_type": "code",
   "execution_count": null,
   "metadata": {},
   "outputs": [],
   "source": []
  },
  {
   "cell_type": "code",
   "execution_count": 80,
   "metadata": {},
   "outputs": [],
   "source": [
    "rsq1,Rmse1=lin_1(X1_test,X2_test,Y_test)"
   ]
  },
  {
   "cell_type": "code",
   "execution_count": 81,
   "metadata": {},
   "outputs": [
    {
     "data": {
      "text/plain": [
       "0.9739153904318711"
      ]
     },
     "execution_count": 81,
     "metadata": {},
     "output_type": "execute_result"
    }
   ],
   "source": [
    "rsq1"
   ]
  },
  {
   "cell_type": "code",
   "execution_count": null,
   "metadata": {},
   "outputs": [],
   "source": []
  },
  {
   "cell_type": "code",
   "execution_count": 82,
   "metadata": {},
   "outputs": [
    {
     "data": {
      "text/plain": [
       "0.9848391404603095"
      ]
     },
     "execution_count": 82,
     "metadata": {},
     "output_type": "execute_result"
    }
   ],
   "source": [
    "Rmse1"
   ]
  },
  {
   "cell_type": "code",
   "execution_count": 76,
   "metadata": {},
   "outputs": [
    {
     "data": {
      "text/plain": [
       "0.027868035858992543"
      ]
     },
     "execution_count": 76,
     "metadata": {},
     "output_type": "execute_result"
    }
   ],
   "source": [
    "rsq1"
   ]
  },
  {
   "cell_type": "code",
   "execution_count": 77,
   "metadata": {},
   "outputs": [
    {
     "data": {
      "text/plain": [
       "0.16921192946792094"
      ]
     },
     "execution_count": 77,
     "metadata": {},
     "output_type": "execute_result"
    }
   ],
   "source": [
    "WT1[999]"
   ]
  },
  {
   "cell_type": "code",
   "execution_count": 78,
   "metadata": {},
   "outputs": [
    {
     "data": {
      "text/plain": [
       "-0.19127855120701934"
      ]
     },
     "execution_count": 78,
     "metadata": {},
     "output_type": "execute_result"
    }
   ],
   "source": [
    "WT2[999]"
   ]
  },
  {
   "cell_type": "code",
   "execution_count": 79,
   "metadata": {},
   "outputs": [
    {
     "data": {
      "text/plain": [
       "Text(0.5, 0, 'cost funct')"
      ]
     },
     "execution_count": 79,
     "metadata": {},
     "output_type": "execute_result"
    },
    {
     "data": {
      "image/png": "[encoded data removed]",
      "text/plain": [
       "<Figure size 432x288 with 1 Axes>"
      ]
     },
     "metadata": {
      "needs_background": "light"
     },
     "output_type": "display_data"
    }
   ],
   "source": [
    "from mpl_toolkits.mplot3d import Axes3D\n",
    "fig=plt.figure()\n",
    "ax=fig.add_subplot(111, projection= '3d')\n",
    "ax.scatter(WT1,WT2, Cost1, c='b',marker='o')\n",
    "ax.set_xlabel(\"w1\")\n",
    "ax.set_ylabel(\"w2\")\n",
    "ax.set_zlabel(\"cost funct\")\n"
   ]
  },
  {
   "cell_type": "code",
   "execution_count": null,
   "metadata": {},
   "outputs": [],
   "source": []
  },
  {
   "cell_type": "code",
   "execution_count": null,
   "metadata": {},
   "outputs": [],
   "source": []
  },
  {
   "cell_type": "code",
   "execution_count": null,
   "metadata": {},
   "outputs": [],
   "source": []
  },
  {
   "cell_type": "code",
   "execution_count": null,
   "metadata": {},
   "outputs": [],
   "source": []
  },
  {
   "cell_type": "code",
   "execution_count": 65,
   "metadata": {},
   "outputs": [],
   "source": [
    "# degree 2\n",
    "def lin_2(x1, x2, y, w0_curr=0, w1_curr=0, w2_curr=0, w3_curr=0,w4_curr=0,w5_curr=0, learning=0.01,count=0):\n",
    "    N=float(len(y))\n",
    "    avg= sum(y)/len(Y)\n",
    "    x3=x1*x1\n",
    "    x4=x2*x2\n",
    "    x5=x1*x2\n",
    "   \n",
    "    for i in range(1000):\n",
    "        \n",
    "        y_curr= w0_curr+w1_curr*x1+w2_curr*x2+w3_curr*x3+w4_curr*x4+w5_curr*x5\n",
    "        sse=sum([data**2\n",
    "                 for data in (y-y_curr)])/N\n",
    "        ssr=sum([data**2 \n",
    "               for data in (y_curr-avg)])/N\n",
    "       \n",
    "        D_w0=(-1/N)*sum(y-y_curr)\n",
    "        D_w1=(-1/N)*sum(x1*(y-y_curr))\n",
    "        D_w2=(-1/N)*sum(x2*(y-y_curr))\n",
    "        D_w3=(-1/N)*sum(x3*(y-y_curr))\n",
    "        D_w4=(-1/N)*sum(x4*(y-y_curr))\n",
    "        D_w5=(-1/N)*sum(x5*(y-y_curr))\n",
    "        w0_curr=w0_curr-(learning*D_w0)\n",
    "        w1_curr=w1_curr-(learning*D_w1)\n",
    "        w2_curr=w2_curr-(learning*D_w2)\n",
    "        w3_curr=w3_curr-(learning*D_w3)\n",
    "        w4_curr=w4_curr-(learning*D_w4)\n",
    "        w5_curr=w5_curr-(learning*D_w5)\n",
    "        \n",
    "       \n",
    "    return sse/(sse+ssr),math.sqrt(sse)"
   ]
  },
  {
   "cell_type": "code",
   "execution_count": 67,
   "metadata": {},
   "outputs": [],
   "source": [
    "r2,rmse2 =  lin_2(X1_train, X2_train, Y_train)"
   ]
  },
  {
   "cell_type": "code",
   "execution_count": 68,
   "metadata": {},
   "outputs": [
    {
     "data": {
      "text/plain": [
       "0.9540224952501906"
      ]
     },
     "execution_count": 68,
     "metadata": {},
     "output_type": "execute_result"
    }
   ],
   "source": [
    "r2"
   ]
  },
  {
   "cell_type": "code",
   "execution_count": 69,
   "metadata": {},
   "outputs": [
    {
     "data": {
      "text/plain": [
       "0.9774241545788475"
      ]
     },
     "execution_count": 69,
     "metadata": {},
     "output_type": "execute_result"
    }
   ],
   "source": [
    "rmse2"
   ]
  },
  {
   "cell_type": "code",
   "execution_count": 53,
   "metadata": {},
   "outputs": [
    {
     "data": {
      "text/plain": [
       "Text(0.5, 1.0, 'Cost function using Gradient Descent')"
      ]
     },
     "execution_count": 53,
     "metadata": {},
     "output_type": "execute_result"
    },
    {
     "data": {
      "image/png": "[encoded data removed]",
      "text/plain": [
       "<Figure size 432x288 with 1 Axes>"
      ]
     },
     "metadata": {
      "needs_background": "light"
     },
     "output_type": "display_data"
    }
   ],
   "source": [
    "plt.plot(count2,cost2)\n",
    "plt.xlabel(\"Iterations\")\n",
    "plt.ylabel(\"Cost function\")\n",
    "plt.title(\"Cost function using Gradient Descent\")"
   ]
  },
  {
   "cell_type": "code",
   "execution_count": 54,
   "metadata": {},
   "outputs": [
    {
     "data": {
      "text/plain": [
       "Text(0.5, 1.0, 'Root Mean Square Error using Gradient Descent for degree 2')"
      ]
     },
     "execution_count": 54,
     "metadata": {},
     "output_type": "execute_result"
    },
    {
     "data": {
      "image/png": "[encoded data removed]",
      "text/plain": [
       "<Figure size 432x288 with 1 Axes>"
      ]
     },
     "metadata": {
      "needs_background": "light"
     },
     "output_type": "display_data"
    }
   ],
   "source": [
    "plt.plot(count2,rms)\n",
    "plt.xlabel(\"Iterations\")\n",
    "plt.ylabel(\"RMSE\")\n",
    "plt.title(\"Root Mean Square Error using Gradient Descent for degree 2\")"
   ]
  },
  {
   "cell_type": "code",
   "execution_count": 55,
   "metadata": {},
   "outputs": [
    {
     "data": {
      "text/plain": [
       "Text(0.5, 1.0, 'R square using Gradient Descent for degree 2')"
      ]
     },
     "execution_count": 55,
     "metadata": {},
     "output_type": "execute_result"
    },
    {
     "data": {
      "image/png": "[encoded data removed]",
      "text/plain": [
       "<Figure size 432x288 with 1 Axes>"
      ]
     },
     "metadata": {
      "needs_background": "light"
     },
     "output_type": "display_data"
    }
   ],
   "source": [
    "plt.plot(count2, rsqu)\n",
    "plt.xlabel(\"Iterations\")\n",
    "plt.ylabel(\"R square\")\n",
    "plt.title(\"R square using Gradient Descent for degree 2\")"
   ]
  },
  {
   "cell_type": "code",
   "execution_count": 70,
   "metadata": {},
   "outputs": [],
   "source": [
    "rsq2,Rmse2=lin_2(X1_test,X2_test,Y_test)"
   ]
  },
  {
   "cell_type": "code",
   "execution_count": 71,
   "metadata": {},
   "outputs": [
    {
     "data": {
      "text/plain": [
       "0.9755722801724312"
      ]
     },
     "execution_count": 71,
     "metadata": {},
     "output_type": "execute_result"
    }
   ],
   "source": [
    "Rmse2"
   ]
  },
  {
   "cell_type": "code",
   "execution_count": 72,
   "metadata": {},
   "outputs": [
    {
     "data": {
      "text/plain": [
       "0.9559879105508419"
      ]
     },
     "execution_count": 72,
     "metadata": {},
     "output_type": "execute_result"
    }
   ],
   "source": [
    "rsq2"
   ]
  },
  {
   "cell_type": "code",
   "execution_count": null,
   "metadata": {},
   "outputs": [],
   "source": []
  },
  {
   "cell_type": "code",
   "execution_count": 83,
   "metadata": {},
   "outputs": [],
   "source": [
    "# degree 3\n",
    "\n",
    "def lin_3(x1, x2, y, w0_curr=0, w1_curr=0, w2_curr=0, w3_curr=0,w4_curr=0,w5_curr=0, w6_curr=0, w7_curr=0, w8_curr=0, w9_curr=0, learning=0.01,count=0):\n",
    "    N= len(y)\n",
    "    avg= sum(y)/len(Y)\n",
    "    x3=x1*x1\n",
    "    x4=x2*x2\n",
    "    x5=x1*x2\n",
    "    x6=x1*x1*x2\n",
    "    x7=x2*x2*x1\n",
    "    x8=x1*x1*x1\n",
    "    x9=x2*x2*x2\n",
    "   \n",
    "    for i in range(1000):\n",
    "        y_curr= w0_curr+w1_curr*x1+w2_curr*x2+w3_curr*x3+w4_curr*x4+w5_curr*x5+w6_curr*x6+w7_curr*x7+w8_curr*x8+w9_curr*x9\n",
    "        sse=sum([data**2\n",
    "                 for data in (y-y_curr)])/N\n",
    "        ssr=sum([data**2 \n",
    "               for data in (y_curr-avg)])/N\n",
    "        D_w0=(-2/N)*sum(y-y_curr)\n",
    "        D_w1=(-2/N)*sum(x1*(y-y_curr))\n",
    "        D_w2=(-2/N)*sum(x2*(y-y_curr))\n",
    "        D_w3=(-2/N)*sum(x3*(y-y_curr))\n",
    "        D_w4=(-2/N)*sum(x4*(y-y_curr))\n",
    "        D_w5=(-2/N)*sum(x5*(y-y_curr))\n",
    "        D_w6=(-2/N)*sum(x6*(y-y_curr))\n",
    "        D_w7=(-2/N)*sum(x7*(y-y_curr))\n",
    "        D_w8=(-2/N)*sum(x8*(y-y_curr))\n",
    "        D_w9=(-2/N)*sum(x9*(y-y_curr))\n",
    "        w0_curr=w0_curr-(learning*D_w0)\n",
    "        w1_curr=w1_curr-(learning*D_w1)\n",
    "        w2_curr=w2_curr-(learning*D_w2)\n",
    "        w3_curr=w3_curr-(learning*D_w3)\n",
    "        w4_curr=w4_curr-(learning*D_w4)\n",
    "        w5_curr=w5_curr-(learning*D_w5)\n",
    "        w6_curr=w6_curr-(learning*D_w6)\n",
    "        w7_curr=w7_curr-(learning*D_w7)\n",
    "        w8_curr=w8_curr-(learning*D_w8)\n",
    "        w9_curr=w9_curr-(learning*D_w9)\n",
    "       \n",
    "    return sse/(sse+ssr), math.sqrt(sse)"
   ]
  },
  {
   "cell_type": "code",
   "execution_count": 84,
   "metadata": {},
   "outputs": [],
   "source": [
    "rsq,rmse3= lin_3(X1_train,X2_train, Y_train )"
   ]
  },
  {
   "cell_type": "code",
   "execution_count": 85,
   "metadata": {},
   "outputs": [
    {
     "data": {
      "text/plain": [
       "0.9274760301927376"
      ]
     },
     "execution_count": 85,
     "metadata": {},
     "output_type": "execute_result"
    }
   ],
   "source": [
    "rmse3"
   ]
  },
  {
   "cell_type": "code",
   "execution_count": 86,
   "metadata": {},
   "outputs": [
    {
     "data": {
      "text/plain": [
       "0.8715381841688764"
      ]
     },
     "execution_count": 86,
     "metadata": {},
     "output_type": "execute_result"
    }
   ],
   "source": [
    "rsq"
   ]
  },
  {
   "cell_type": "code",
   "execution_count": 87,
   "metadata": {},
   "outputs": [],
   "source": [
    "rsq3,Rmse3=lin_3(X1_test,X2_test,Y_test)"
   ]
  },
  {
   "cell_type": "code",
   "execution_count": 88,
   "metadata": {},
   "outputs": [
    {
     "data": {
      "text/plain": [
       "0.9255518949403609"
      ]
     },
     "execution_count": 88,
     "metadata": {},
     "output_type": "execute_result"
    }
   ],
   "source": [
    "Rmse3"
   ]
  },
  {
   "cell_type": "code",
   "execution_count": 89,
   "metadata": {},
   "outputs": [
    {
     "data": {
      "text/plain": [
       "0.8723195435090235"
      ]
     },
     "execution_count": 89,
     "metadata": {},
     "output_type": "execute_result"
    }
   ],
   "source": [
    "rsq3"
   ]
  },
  {
   "cell_type": "code",
   "execution_count": null,
   "metadata": {},
   "outputs": [],
   "source": []
  },
  {
   "cell_type": "code",
   "execution_count": null,
   "metadata": {},
   "outputs": [],
   "source": []
  },
  {
   "cell_type": "code",
   "execution_count": 15,
   "metadata": {},
   "outputs": [],
   "source": [
    "# degree 4\n",
    "\n",
    "\n",
    "def lin_4(x1, x2, y, w0_curr=0, w1_curr=0, w2_curr=0, w3_curr=0,w4_curr=0,w5_curr=0, w6_curr=0, w7_curr=0, w8_curr=0, w9_curr=0,w10_curr=0,w11_curr=0,w12_curr=0,w13_curr=0,w14_curr=0,learning=0.01):\n",
    "    N= len(y)\n",
    "    avg= sum(y)/len(Y)\n",
    "    x3=x1*x1\n",
    "    x4=x2*x2\n",
    "    x5=x1*x2\n",
    "    x6=x1*x1*x2\n",
    "    x7=x2*x2*x1\n",
    "    x8=x1*x1*x1\n",
    "    x9=x2*x2*x2\n",
    "    x10=x4*x4\n",
    "    x11= x6*x1\n",
    "    x12= x7*x2\n",
    "    x13= x8*x1\n",
    "    x14= x9*x2\n",
    "    \n",
    "    for i in range(1000):\n",
    "        y_curr= w0_curr+w1_curr*x1+w2_curr*x2+w3_curr*x3+w4_curr*x4+w5_curr*x5+w6_curr*x6+w7_curr*x7+w8_curr*x8+w9_curr*x9+w10_curr*x10+w11_curr*x11+w12_curr*x12+w13_curr*x13+w14_curr*x14\n",
    "        sse=sum([data**2\n",
    "                 for data in (y-y_curr)])/N\n",
    "        ssr=sum([data**2 \n",
    "               for data in (y_curr-avg)])/N\n",
    "        D_w0=(-2/N)*sum(y-y_curr)\n",
    "        D_w1=(-2/N)*sum(x1*(y-y_curr))\n",
    "        D_w2=(-2/N)*sum(x2*(y-y_curr))\n",
    "        D_w3=(-2/N)*sum(x3*(y-y_curr))\n",
    "        D_w4=(-2/N)*sum(x4*(y-y_curr))\n",
    "        D_w5=(-2/N)*sum(x5*(y-y_curr))\n",
    "        D_w6=(-2/N)*sum(x6*(y-y_curr))\n",
    "        D_w7=(-2/N)*sum(x7*(y-y_curr))\n",
    "        D_w8=(-2/N)*sum(x8*(y-y_curr))\n",
    "        D_w9=(-2/N)*sum(x9*(y-y_curr))\n",
    "        D_w10=(-2/N)*sum(x10*(y-y_curr))\n",
    "        D_w11=(-2/N)*sum(x11*(y-y_curr))\n",
    "        D_w12=(-2/N)*sum(x12*(y-y_curr))\n",
    "        D_w13=(-2/N)*sum(x13*(y-y_curr))\n",
    "        D_w14=(-2/N)*sum(x14*(y-y_curr))\n",
    "        w0_curr=w0_curr-(learning*D_w0)\n",
    "        w1_curr=w1_curr-(learning*D_w1)\n",
    "        w2_curr=w2_curr-(learning*D_w2)\n",
    "        w3_curr=w3_curr-(learning*D_w3)\n",
    "        w4_curr=w4_curr-(learning*D_w4)\n",
    "        w5_curr=w5_curr-(learning*D_w5)\n",
    "        w6_curr=w6_curr-(learning*D_w6)\n",
    "        w7_curr=w7_curr-(learning*D_w7)\n",
    "        w8_curr=w8_curr-(learning*D_w8)\n",
    "        w9_curr=w9_curr-(learning*D_w9)\n",
    "        w10_curr=w10_curr-(learning*D_w10)\n",
    "        w11_curr=w11_curr-(learning*D_w11)\n",
    "        w12_curr=w12_curr-(learning*D_w12)\n",
    "        w13_curr=w13_curr-(learning*D_w13)\n",
    "        w14_curr=w14_curr-(learning*D_w14)\n",
    "    return sse/(sse+ssr), math.sqrt(sse)"
   ]
  },
  {
   "cell_type": "code",
   "execution_count": 16,
   "metadata": {},
   "outputs": [],
   "source": [
    "RR,rmse4=lin_4(X1_train,X2_train,Y_train)"
   ]
  },
  {
   "cell_type": "code",
   "execution_count": 17,
   "metadata": {},
   "outputs": [
    {
     "data": {
      "text/plain": [
       "0.903374202796777"
      ]
     },
     "execution_count": 17,
     "metadata": {},
     "output_type": "execute_result"
    }
   ],
   "source": [
    "rmse4"
   ]
  },
  {
   "cell_type": "code",
   "execution_count": 18,
   "metadata": {},
   "outputs": [
    {
     "data": {
      "text/plain": [
       "0.8375768092839748"
      ]
     },
     "execution_count": 18,
     "metadata": {},
     "output_type": "execute_result"
    }
   ],
   "source": [
    "RR"
   ]
  },
  {
   "cell_type": "code",
   "execution_count": 19,
   "metadata": {},
   "outputs": [],
   "source": [
    "rsq4,Rmse4=lin_4(X1_test,X2_test,Y_test)"
   ]
  },
  {
   "cell_type": "code",
   "execution_count": 20,
   "metadata": {},
   "outputs": [
    {
     "data": {
      "text/plain": [
       "0.9009178451134674"
      ]
     },
     "execution_count": 20,
     "metadata": {},
     "output_type": "execute_result"
    }
   ],
   "source": [
    "Rmse4"
   ]
  },
  {
   "cell_type": "code",
   "execution_count": 21,
   "metadata": {},
   "outputs": [
    {
     "data": {
      "text/plain": [
       "0.8376647554405061"
      ]
     },
     "execution_count": 21,
     "metadata": {},
     "output_type": "execute_result"
    }
   ],
   "source": [
    "rsq4"
   ]
  },
  {
   "cell_type": "code",
   "execution_count": null,
   "metadata": {},
   "outputs": [],
   "source": []
  },
  {
   "cell_type": "code",
   "execution_count": null,
   "metadata": {},
   "outputs": [],
   "source": []
  },
  {
   "cell_type": "code",
   "execution_count": null,
   "metadata": {},
   "outputs": [],
   "source": []
  },
  {
   "cell_type": "code",
   "execution_count": null,
   "metadata": {},
   "outputs": [],
   "source": []
  },
  {
   "cell_type": "code",
   "execution_count": null,
   "metadata": {},
   "outputs": [],
   "source": []
  },
  {
   "cell_type": "code",
   "execution_count": null,
   "metadata": {},
   "outputs": [],
   "source": []
  },
  {
   "cell_type": "code",
   "execution_count": null,
   "metadata": {},
   "outputs": [],
   "source": []
  },
  {
   "cell_type": "code",
   "execution_count": 28,
   "metadata": {},
   "outputs": [
    {
     "data": {
      "text/html": [
       "<div>\n",
       "<style scoped>\n",
       "    .dataframe tbody tr th:only-of-type {\n",
       "        vertical-align: middle;\n",
       "    }\n",
       "\n",
       "    .dataframe tbody tr th {\n",
       "        vertical-align: top;\n",
       "    }\n",
       "\n",
       "    .dataframe thead th {\n",
       "        text-align: right;\n",
       "    }\n",
       "</style>\n",
       "<table border=\"1\" class=\"dataframe\">\n",
       "  <thead>\n",
       "    <tr style=\"text-align: right;\">\n",
       "      <th></th>\n",
       "      <th>Latitude</th>\n",
       "      <th>Longitude</th>\n",
       "      <th>Altitude</th>\n",
       "    </tr>\n",
       "  </thead>\n",
       "  <tbody>\n",
       "    <tr>\n",
       "      <td>0</td>\n",
       "      <td>-0.609439</td>\n",
       "      <td>-1.167475</td>\n",
       "      <td>-0.258290</td>\n",
       "    </tr>\n",
       "    <tr>\n",
       "      <td>1</td>\n",
       "      <td>-0.608854</td>\n",
       "      <td>-1.167938</td>\n",
       "      <td>-0.233452</td>\n",
       "    </tr>\n",
       "    <tr>\n",
       "      <td>2</td>\n",
       "      <td>-0.608436</td>\n",
       "      <td>-1.168145</td>\n",
       "      <td>-0.223068</td>\n",
       "    </tr>\n",
       "    <tr>\n",
       "      <td>3</td>\n",
       "      <td>-0.608035</td>\n",
       "      <td>-1.168139</td>\n",
       "      <td>-0.215463</td>\n",
       "    </tr>\n",
       "    <tr>\n",
       "      <td>4</td>\n",
       "      <td>-0.607351</td>\n",
       "      <td>-1.168084</td>\n",
       "      <td>-0.178266</td>\n",
       "    </tr>\n",
       "  </tbody>\n",
       "</table>\n",
       "</div>"
      ],
      "text/plain": [
       "   Latitude  Longitude  Altitude\n",
       "0 -0.609439  -1.167475 -0.258290\n",
       "1 -0.608854  -1.167938 -0.233452\n",
       "2 -0.608436  -1.168145 -0.223068\n",
       "3 -0.608035  -1.168139 -0.215463\n",
       "4 -0.607351  -1.168084 -0.178266"
      ]
     },
     "execution_count": 28,
     "metadata": {},
     "output_type": "execute_result"
    }
   ],
   "source": [
    "data.head()"
   ]
  },
  {
   "cell_type": "code",
   "execution_count": 37,
   "metadata": {},
   "outputs": [],
   "source": [
    "# degree 5\n",
    "\n",
    "def lin_5(x1, x2, y, w0_curr=0, w1_curr=0, w2_curr=0, w3_curr=0,w4_curr=0,w5_curr=0, w6_curr=0, w7_curr=0, w8_curr=0, w9_curr=0,w10_curr=0,w11_curr=0,w12_curr=0,w13_curr=0,w14_curr=0,w15_curr=0,w16_curr=0,w17_curr=0,w18_curr=0,w19_curr=0,w20_curr=0,learning=0.001):\n",
    "    N= len(y)\n",
    "    avg= sum(y)/len(Y)\n",
    "    x3=x1*x1\n",
    "    x4=x2*x2\n",
    "    x5=x1*x2\n",
    "    x6=x1*x1*x2\n",
    "    x7=x2*x2*x1\n",
    "    x8=x1*x1*x1\n",
    "    x9=x2*x2*x2\n",
    "    x10=x4*x4\n",
    "    x11= x6*x1\n",
    "    x12= x7*x2\n",
    "    x13= x8*x1\n",
    "    x14= x9*x2\n",
    "    x15= x8*x4\n",
    "    x16= x9*x3\n",
    "    x17= x13*x2\n",
    "    x18= x14*x1\n",
    "    x19= x13*x1\n",
    "    x20= x14*x2\n",
    "    \n",
    "    for i in range(1000):\n",
    "        y_curr= w0_curr+w1_curr*x1+w2_curr*x2+w3_curr*x3+w4_curr*x4+w5_curr*x5+w6_curr*x6+w7_curr*x7+w8_curr*x8+w9_curr*x9+w10_curr*x10+w11_curr*x11+w12_curr*x12+w13_curr*x13+w14_curr*x14+w15_curr*x15+w16_curr*x16+w17_curr*x17+w18_curr*x18+w19_curr*x19+w20_curr*x20\n",
    "        sse=sum([data**2\n",
    "                 for data in (y-y_curr)])/N\n",
    "        \n",
    "        ssr=sum([data**2 \n",
    "               for data in (y_curr-avg)])/N\n",
    "        D_w0=(-2/N)*sum(y-y_curr)\n",
    "        D_w1=(-2/N)*sum(x1*(y-y_curr))\n",
    "        D_w2=(-2/N)*sum(x2*(y-y_curr))\n",
    "        D_w3=(-2/N)*sum(x3*(y-y_curr))\n",
    "        D_w4=(-2/N)*sum(x4*(y-y_curr))\n",
    "        D_w5=(-2/N)*sum(x5*(y-y_curr))\n",
    "        D_w6=(-2/N)*sum(x6*(y-y_curr))\n",
    "        D_w7=(-2/N)*sum(x7*(y-y_curr))\n",
    "        D_w8=(-2/N)*sum(x8*(y-y_curr))\n",
    "        D_w9=(-2/N)*sum(x9*(y-y_curr))\n",
    "        D_w10=(-2/N)*sum(x10*(y-y_curr))\n",
    "        D_w11=(-2/N)*sum(x11*(y-y_curr))\n",
    "        D_w12=(-2/N)*sum(x12*(y-y_curr))\n",
    "        D_w13=(-2/N)*sum(x13*(y-y_curr))\n",
    "        D_w14=(-2/N)*sum(x14*(y-y_curr))\n",
    "        D_w15=(-2/N)*sum(x15*(y-y_curr))\n",
    "        D_w16=(-2/N)*sum(x16*(y-y_curr))\n",
    "        D_w17=(-2/N)*sum(x17*(y-y_curr))\n",
    "        D_w18=(-2/N)*sum(x18*(y-y_curr))\n",
    "        D_w19=(-2/N)*sum(x19*(y-y_curr))\n",
    "        D_w20=(-2/N)*sum(x20*(y-y_curr))\n",
    "                \n",
    "        w0_curr=w0_curr-(learning*D_w0)\n",
    "        w1_curr=w1_curr-(learning*D_w1)\n",
    "        w2_curr=w2_curr-(learning*D_w2)\n",
    "        w3_curr=w3_curr-(learning*D_w3)\n",
    "        w4_curr=w4_curr-(learning*D_w4)\n",
    "        w5_curr=w5_curr-(learning*D_w5)\n",
    "        w6_curr=w6_curr-(learning*D_w6)\n",
    "        w7_curr=w7_curr-(learning*D_w7)\n",
    "        w8_curr=w8_curr-(learning*D_w8)\n",
    "        w9_curr=w9_curr-(learning*D_w9)\n",
    "        w10_curr=w10_curr-(learning*D_w10)\n",
    "        w11_curr=w11_curr-(learning*D_w11)\n",
    "        w12_curr=w12_curr-(learning*D_w12)\n",
    "        w13_curr=w13_curr-(learning*D_w13)\n",
    "        w14_curr=w14_curr-(learning*D_w14)\n",
    "        w15_curr=w15_curr-(learning*D_w15)\n",
    "        w16_curr=w16_curr-(learning*D_w16)\n",
    "        w17_curr=w17_curr-(learning*D_w17)\n",
    "        w18_curr=w18_curr-(learning*D_w18)\n",
    "        w19_curr=w19_curr-(learning*D_w19)\n",
    "        w20_curr=w20_curr-(learning*D_w20)\n",
    "            \n",
    "        \n",
    "    return sse/(sse+ssr),math.sqrt(sse)"
   ]
  },
  {
   "cell_type": "code",
   "execution_count": 38,
   "metadata": {},
   "outputs": [],
   "source": [
    "aa,rmse5=lin_5(X1_train, X2_train, Y_train)"
   ]
  },
  {
   "cell_type": "code",
   "execution_count": 39,
   "metadata": {},
   "outputs": [
    {
     "data": {
      "text/plain": [
       "0.941543475755632"
      ]
     },
     "execution_count": 39,
     "metadata": {},
     "output_type": "execute_result"
    }
   ],
   "source": [
    "rmse5"
   ]
  },
  {
   "cell_type": "code",
   "execution_count": 40,
   "metadata": {},
   "outputs": [
    {
     "data": {
      "text/plain": [
       "0.9176306563083754"
      ]
     },
     "execution_count": 40,
     "metadata": {},
     "output_type": "execute_result"
    }
   ],
   "source": [
    "aa"
   ]
  },
  {
   "cell_type": "code",
   "execution_count": 41,
   "metadata": {},
   "outputs": [],
   "source": [
    "rsq5,Rmse5=lin_5(X1_test,X2_test,Y_test)"
   ]
  },
  {
   "cell_type": "code",
   "execution_count": 42,
   "metadata": {},
   "outputs": [
    {
     "data": {
      "text/plain": [
       "0.939093603803497"
      ]
     },
     "execution_count": 42,
     "metadata": {},
     "output_type": "execute_result"
    }
   ],
   "source": [
    "Rmse5"
   ]
  },
  {
   "cell_type": "code",
   "execution_count": 43,
   "metadata": {},
   "outputs": [
    {
     "data": {
      "text/plain": [
       "0.9186104101561249"
      ]
     },
     "execution_count": 43,
     "metadata": {},
     "output_type": "execute_result"
    }
   ],
   "source": [
    "rsq5"
   ]
  },
  {
   "cell_type": "code",
   "execution_count": null,
   "metadata": {},
   "outputs": [],
   "source": []
  },
  {
   "cell_type": "code",
   "execution_count": null,
   "metadata": {},
   "outputs": [],
   "source": []
  },
  {
   "cell_type": "code",
   "execution_count": null,
   "metadata": {},
   "outputs": [],
   "source": []
  },
  {
   "cell_type": "code",
   "execution_count": null,
   "metadata": {},
   "outputs": [],
   "source": []
  },
  {
   "cell_type": "code",
   "execution_count": null,
   "metadata": {},
   "outputs": [],
   "source": []
  },
  {
   "cell_type": "code",
   "execution_count": 52,
   "metadata": {},
   "outputs": [],
   "source": [
    "# degree 6\n",
    "\n",
    "def lin_6(x1, x2, y, w0_curr=0, w1_curr=0, w2_curr=0, w3_curr=0,w4_curr=0,w5_curr=0, w6_curr=0, w7_curr=0, w8_curr=0, w9_curr=0,w10_curr=0,w11_curr=0,w12_curr=0,w13_curr=0,w14_curr=0,w15_curr=0,w16_curr=0,w17_curr=0,w18_curr=0,w19_curr=0,w20_curr=0,w21_curr=0,w22_curr=0,w23_curr=0,w24_curr=0,w25_curr=0,w26_curr=0,w27_curr=0,learning=0.0001):\n",
    "    N= len(y)\n",
    "    avg= sum(y)/len(Y)\n",
    "    x3= x1*x1\n",
    "    x4= x2*x2\n",
    "    x5= x1*x2\n",
    "    x6= x1*x1*x2\n",
    "    x7= x2*x2*x1\n",
    "    x8= x1*x1*x1\n",
    "    x9= x2*x2*x2\n",
    "    x10= x4*x4\n",
    "    x11= x6*x1\n",
    "    x12= x7*x2\n",
    "    x13= x8*x1\n",
    "    x14= x9*x2\n",
    "    x15= x8*x4\n",
    "    x16= x9*x3\n",
    "    x17= x13*x2\n",
    "    x18= x14*x1\n",
    "    x19= x13*x1\n",
    "    x20= x14*x2\n",
    "    x21= x8*x9\n",
    "    x22= x13*x4\n",
    "    x23= x14*x3\n",
    "    x24= x19*x2\n",
    "    x25= x20*x1\n",
    "    x26= x19*x1\n",
    "    x27= x20*x2\n",
    "    \n",
    "    for i in range(1000):\n",
    "        y_curr= w0_curr+w1_curr*x1+w2_curr*x2+w3_curr*x3+w4_curr*x4+w5_curr*x5+w6_curr*x6+w7_curr*x7+w8_curr*x8+w9_curr*x9+w10_curr*x10+w11_curr*x11+w12_curr*x12+w13_curr*x13+w14_curr*x14+w15_curr*x15+w16_curr*x16+w17_curr*x17+w18_curr*x18+w19_curr*x19+w20_curr*x20+w21_curr*x21+w22_curr*x22+w23_curr*x23+w24_curr*x24+w25_curr*x25+w26_curr*x26+w27_curr*x27\n",
    "        sse=sum([data**2\n",
    "                 for data in (y-y_curr)])/N\n",
    "        ssr=sum([data**2 \n",
    "               for data in (y_curr-avg)])/N\n",
    "        D_w0=(-2/N)*sum(y-y_curr)\n",
    "        D_w1=(-2/N)*sum(x1*(y-y_curr))\n",
    "        D_w2=(-2/N)*sum(x2*(y-y_curr))\n",
    "        D_w3=(-2/N)*sum(x3*(y-y_curr))\n",
    "        D_w4=(-2/N)*sum(x4*(y-y_curr))\n",
    "        D_w5=(-2/N)*sum(x5*(y-y_curr))\n",
    "        D_w6=(-2/N)*sum(x6*(y-y_curr))\n",
    "        D_w7=(-2/N)*sum(x7*(y-y_curr))\n",
    "        D_w8=(-2/N)*sum(x8*(y-y_curr))\n",
    "        D_w9=(-2/N)*sum(x9*(y-y_curr))\n",
    "        D_w10=(-2/N)*sum(x10*(y-y_curr))\n",
    "        D_w11=(-2/N)*sum(x11*(y-y_curr))\n",
    "        D_w12=(-2/N)*sum(x12*(y-y_curr))\n",
    "        D_w13=(-2/N)*sum(x13*(y-y_curr))\n",
    "        D_w14=(-2/N)*sum(x14*(y-y_curr))\n",
    "        D_w15=(-2/N)*sum(x15*(y-y_curr))\n",
    "        D_w16=(-2/N)*sum(x16*(y-y_curr))\n",
    "        D_w17=(-2/N)*sum(x17*(y-y_curr))\n",
    "        D_w18=(-2/N)*sum(x18*(y-y_curr))\n",
    "        D_w19=(-2/N)*sum(x19*(y-y_curr))\n",
    "        D_w20=(-2/N)*sum(x20*(y-y_curr))\n",
    "        D_w21=(-2/N)*sum(x21*(y-y_curr))\n",
    "        D_w22=(-2/N)*sum(x22*(y-y_curr))\n",
    "        D_w23=(-2/N)*sum(x23*(y-y_curr))\n",
    "        D_w24=(-2/N)*sum(x24*(y-y_curr))\n",
    "        D_w25=(-2/N)*sum(x25*(y-y_curr))\n",
    "        D_w26=(-2/N)*sum(x26*(y-y_curr))\n",
    "        D_w27=(-2/N)*sum(x27*(y-y_curr))\n",
    "        \n",
    "                \n",
    "        w0_curr=w0_curr-(learning*D_w0)\n",
    "        w1_curr=w1_curr-(learning*D_w1)\n",
    "        w2_curr=w2_curr-(learning*D_w2)\n",
    "        w3_curr=w3_curr-(learning*D_w3)\n",
    "        w4_curr=w4_curr-(learning*D_w4)\n",
    "        w5_curr=w5_curr-(learning*D_w5)\n",
    "        w6_curr=w6_curr-(learning*D_w6)\n",
    "        w7_curr=w7_curr-(learning*D_w7)\n",
    "        w8_curr=w8_curr-(learning*D_w8)\n",
    "        w9_curr=w9_curr-(learning*D_w9)\n",
    "        w10_curr=w10_curr-(learning*D_w10)\n",
    "        w11_curr=w11_curr-(learning*D_w11)\n",
    "        w12_curr=w12_curr-(learning*D_w12)\n",
    "        w13_curr=w13_curr-(learning*D_w13)\n",
    "        w14_curr=w14_curr-(learning*D_w14)\n",
    "        w15_curr=w15_curr-(learning*D_w15)\n",
    "        w16_curr=w16_curr-(learning*D_w16)\n",
    "        w17_curr=w17_curr-(learning*D_w17)\n",
    "        w18_curr=w18_curr-(learning*D_w18)\n",
    "        w19_curr=w19_curr-(learning*D_w19)\n",
    "        w20_curr=w20_curr-(learning*D_w20)\n",
    "        w21_curr=w20_curr-(learning*D_w21)\n",
    "        w22_curr=w20_curr-(learning*D_w22)\n",
    "        w23_curr=w20_curr-(learning*D_w23)\n",
    "        w24_curr=w20_curr-(learning*D_w24)\n",
    "        w25_curr=w20_curr-(learning*D_w25)\n",
    "        w26_curr=w20_curr-(learning*D_w26)\n",
    "        w27_curr=w20_curr-(learning*D_w27)\n",
    "            \n",
    "        \n",
    "    return sse/(sse+ssr),math.sqrt(sse)"
   ]
  },
  {
   "cell_type": "code",
   "execution_count": 53,
   "metadata": {},
   "outputs": [],
   "source": [
    "res,rmse6= lin_6(X1_train,X2_train,Y_train)"
   ]
  },
  {
   "cell_type": "code",
   "execution_count": 54,
   "metadata": {},
   "outputs": [
    {
     "data": {
      "text/plain": [
       "0.9693423560957363"
      ]
     },
     "execution_count": 54,
     "metadata": {},
     "output_type": "execute_result"
    }
   ],
   "source": [
    "rmse6"
   ]
  },
  {
   "cell_type": "code",
   "execution_count": 55,
   "metadata": {},
   "outputs": [
    {
     "data": {
      "text/plain": [
       "0.8974506151380077"
      ]
     },
     "execution_count": 55,
     "metadata": {},
     "output_type": "execute_result"
    }
   ],
   "source": [
    "res"
   ]
  },
  {
   "cell_type": "code",
   "execution_count": 56,
   "metadata": {},
   "outputs": [],
   "source": [
    "Rsq6,Rmse6=lin_6(X1_test,X2_test,Y_test)"
   ]
  },
  {
   "cell_type": "code",
   "execution_count": 57,
   "metadata": {},
   "outputs": [
    {
     "data": {
      "text/plain": [
       "0.966037091295887"
      ]
     },
     "execution_count": 57,
     "metadata": {},
     "output_type": "execute_result"
    }
   ],
   "source": [
    "Rmse6"
   ]
  },
  {
   "cell_type": "code",
   "execution_count": 58,
   "metadata": {},
   "outputs": [
    {
     "data": {
      "text/plain": [
       "0.89951129769731"
      ]
     },
     "execution_count": 58,
     "metadata": {},
     "output_type": "execute_result"
    }
   ],
   "source": [
    "Rsq6"
   ]
  },
  {
   "cell_type": "code",
   "execution_count": null,
   "metadata": {},
   "outputs": [],
   "source": []
  },
  {
   "cell_type": "code",
   "execution_count": 90,
   "metadata": {},
   "outputs": [],
   "source": [
    "RMSE_train=[rmse2,rmse3,rmse4,rmse5,rmse6]\n",
    "degree=[2,3,4,5,6]\n"
   ]
  },
  {
   "cell_type": "code",
   "execution_count": 91,
   "metadata": {},
   "outputs": [],
   "source": [
    "RMSE_test=[Rmse2,Rmse3,Rmse4,Rmse5,Rmse6]\n",
    "degree=[2,3,4,5,6]"
   ]
  },
  {
   "cell_type": "code",
   "execution_count": null,
   "metadata": {},
   "outputs": [],
   "source": []
  },
  {
   "cell_type": "code",
   "execution_count": null,
   "metadata": {},
   "outputs": [],
   "source": []
  },
  {
   "cell_type": "code",
   "execution_count": 92,
   "metadata": {},
   "outputs": [
    {
     "data": {
      "image/png": "[encoded data removed]",
      "text/plain": [
       "<Figure size 432x288 with 1 Axes>"
      ]
     },
     "metadata": {
      "needs_background": "light"
     },
     "output_type": "display_data"
    }
   ],
   "source": [
    "plt.plot(degree,RMSE_train,'r')\n",
    "plt.plot(degree,RMSE_test,'b')\n",
    "plt.xlabel(\"Degree\")\n",
    "plt.ylabel(\"Root Mean Square Error\")\n",
    "plt.show()\n"
   ]
  },
  {
   "cell_type": "code",
   "execution_count": null,
   "metadata": {},
   "outputs": [],
   "source": []
  }
 ],
 "metadata": {
  "kernelspec": {
   "display_name": "Python 3",
   "language": "python",
   "name": "python3"
  },
  "language_info": {
   "codemirror_mode": {
    "name": "ipython",
    "version": 3
   },
   "file_extension": ".py",
   "mimetype": "text/x-python",
   "name": "python",
   "nbconvert_exporter": "python",
   "pygments_lexer": "ipython3",
   "version": "3.7.4"
  }
 },
 "nbformat": 4,
 "nbformat_minor": 2
}

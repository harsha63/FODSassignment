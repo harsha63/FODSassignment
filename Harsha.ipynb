{
 "cells": [
  {
   "cell_type": "code",
   "execution_count": 13,
   "metadata": {},
   "outputs": [],
   "source": [
    "import pandas as pd\n",
    "import numpy as np\n",
    "import math"
   ]
  },
  {
   "cell_type": "code",
   "execution_count": 2,
   "metadata": {},
   "outputs": [],
   "source": [
    "data= pd.read_csv('3D_spatial_network.txt')"
   ]
  },
  {
   "cell_type": "code",
   "execution_count": 3,
   "metadata": {},
   "outputs": [
    {
     "data": {
      "text/html": [
       "<div>\n",
       "<style scoped>\n",
       "    .dataframe tbody tr th:only-of-type {\n",
       "        vertical-align: middle;\n",
       "    }\n",
       "\n",
       "    .dataframe tbody tr th {\n",
       "        vertical-align: top;\n",
       "    }\n",
       "\n",
       "    .dataframe thead th {\n",
       "        text-align: right;\n",
       "    }\n",
       "</style>\n",
       "<table border=\"1\" class=\"dataframe\">\n",
       "  <thead>\n",
       "    <tr style=\"text-align: right;\">\n",
       "      <th></th>\n",
       "      <th>Latitude</th>\n",
       "      <th>Longitude</th>\n",
       "      <th>Altitude</th>\n",
       "    </tr>\n",
       "  </thead>\n",
       "  <tbody>\n",
       "    <tr>\n",
       "      <td>0</td>\n",
       "      <td>-0.609440</td>\n",
       "      <td>-1.100650</td>\n",
       "      <td>-0.258290</td>\n",
       "    </tr>\n",
       "    <tr>\n",
       "      <td>1</td>\n",
       "      <td>-0.608855</td>\n",
       "      <td>-1.101086</td>\n",
       "      <td>-0.233452</td>\n",
       "    </tr>\n",
       "    <tr>\n",
       "      <td>2</td>\n",
       "      <td>-0.608437</td>\n",
       "      <td>-1.101282</td>\n",
       "      <td>-0.223068</td>\n",
       "    </tr>\n",
       "    <tr>\n",
       "      <td>3</td>\n",
       "      <td>-0.608035</td>\n",
       "      <td>-1.101276</td>\n",
       "      <td>-0.215463</td>\n",
       "    </tr>\n",
       "    <tr>\n",
       "      <td>4</td>\n",
       "      <td>-0.607351</td>\n",
       "      <td>-1.101224</td>\n",
       "      <td>-0.178266</td>\n",
       "    </tr>\n",
       "  </tbody>\n",
       "</table>\n",
       "</div>"
      ],
      "text/plain": [
       "   Latitude  Longitude  Altitude\n",
       "0 -0.609440  -1.100650 -0.258290\n",
       "1 -0.608855  -1.101086 -0.233452\n",
       "2 -0.608437  -1.101282 -0.223068\n",
       "3 -0.608035  -1.101276 -0.215463\n",
       "4 -0.607351  -1.101224 -0.178266"
      ]
     },
     "execution_count": 3,
     "metadata": {},
     "output_type": "execute_result"
    }
   ],
   "source": [
    "data.columns=['Drop','Latitude','Longitude','Altitude']\n",
    "data.drop('Drop', axis=1, inplace=True)\n",
    "data['Latitude']=(data['Latitude']-data['Latitude'].mean())/data['Latitude'].std()\n",
    "data['Longitude']=(data['Longitude']-data['Longitude'].mean())/data['Longitude'].std()\n",
    "data['Altitude']=(data['Altitude']-data['Altitude'].mean())/data['Altitude'].std()\n",
    "data.head()"
   ]
  },
  {
   "cell_type": "code",
   "execution_count": 4,
   "metadata": {},
   "outputs": [],
   "source": [
    "data.dropna(axis=0, how='any', inplace=True)\n",
    "n= data['Latitude'].size\n",
    "x1=[]\n",
    "x1=data['Latitude'].iloc[:]\n",
    "x2=[]\n",
    "x2=data['Longitude'].iloc[:]\n",
    "y=[]\n",
    "y=data['Altitude'].iloc[:]\n"
   ]
  },
  {
   "cell_type": "code",
   "execution_count": 5,
   "metadata": {},
   "outputs": [],
   "source": [
    "from sklearn.model_selection import train_test_split"
   ]
  },
  {
   "cell_type": "code",
   "execution_count": 6,
   "metadata": {},
   "outputs": [],
   "source": [
    "x1_train, x1_test, x2_train, x2_test, y_train, y_test=train_test_split(x1, x2, y, test_size=0.3)"
   ]
  },
  {
   "cell_type": "code",
   "execution_count": 14,
   "metadata": {},
   "outputs": [],
   "source": [
    "def st(X1, X2, Y,w0_curr=0,w1_curr=0,w2_curr=0,y_curr=0,learning=0.01):\n",
    " \n",
    "    \n",
    "    \n",
    "    for i in range(1000):\n",
    "        c=list(zip(X1,X2,Y))\n",
    "        import random\n",
    "        random.shuffle(c)\n",
    "        X1,X2,Y= zip(*c)\n",
    "       \n",
    "        x1=X1[0:500]\n",
    "        x1=list(x1)\n",
    "        x1=pd.Series(x1)\n",
    "        x2=X2[0:500]\n",
    "        x2=list(x2)\n",
    "        x2=pd.Series(x2)\n",
    "      \n",
    "        y=Y[0:500]\n",
    "        y=list(y)\n",
    "        y=pd.Series(y)\n",
    "        avg=sum(y)/500\n",
    "        y_curr= w0_curr+w1_curr*x1+w2_curr*x2\n",
    "        sse=sum([data**2\n",
    "                for data in (y-y_curr)])/500\n",
    "        ssr=sum([data**2 \n",
    "               for data in (y_curr-avg)])/500     \n",
    "        D_w0=(-2/500)*sum(y-y_curr)\n",
    "        D_w1=(-2/500)*sum(x1*(y-y_curr))\n",
    "        D_w2=(-2/500)*sum(x2*(y-y_curr))\n",
    "        w0_curr=w0_curr-(learning*D_w0)\n",
    "        w1_curr=w1_curr-(learning*D_w1)\n",
    "        w2_curr=w2_curr-(learning*D_w2)\n",
    "       \n",
    "    return ssr/(sse+ssr), math.sqrt(sse)"
   ]
  },
  {
   "cell_type": "code",
   "execution_count": 15,
   "metadata": {},
   "outputs": [],
   "source": [
    "rrr,rmse=st(x1_test,x2_test,y_test)"
   ]
  },
  {
   "cell_type": "code",
   "execution_count": 16,
   "metadata": {},
   "outputs": [
    {
     "data": {
      "text/plain": [
       "0.03203649037217431"
      ]
     },
     "execution_count": 16,
     "metadata": {},
     "output_type": "execute_result"
    }
   ],
   "source": [
    "rrr"
   ]
  },
  {
   "cell_type": "code",
   "execution_count": 17,
   "metadata": {},
   "outputs": [
    {
     "data": {
      "text/plain": [
       "0.9804142823306199"
      ]
     },
     "execution_count": 17,
     "metadata": {},
     "output_type": "execute_result"
    }
   ],
   "source": [
    "rmse"
   ]
  },
  {
   "cell_type": "code",
   "execution_count": null,
   "metadata": {},
   "outputs": [],
   "source": []
  }
 ],
 "metadata": {
  "kernelspec": {
   "display_name": "Python 3",
   "language": "python",
   "name": "python3"
  },
  "language_info": {
   "codemirror_mode": {
    "name": "ipython",
    "version": 3
   },
   "file_extension": ".py",
   "mimetype": "text/x-python",
   "name": "python",
   "nbconvert_exporter": "python",
   "pygments_lexer": "ipython3",
   "version": "3.7.4"
  }
 },
 "nbformat": 4,
 "nbformat_minor": 2
}
